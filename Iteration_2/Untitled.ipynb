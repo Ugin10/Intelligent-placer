{
 "cells": [
  {
   "cell_type": "code",
   "execution_count": 31,
   "id": "493c3f59",
   "metadata": {},
   "outputs": [],
   "source": [
    "import cv2\n",
    "%matplotlib inline\n",
    "from matplotlib import pyplot as plt"
   ]
  },
  {
   "cell_type": "code",
   "execution_count": 32,
   "id": "004cb399",
   "metadata": {},
   "outputs": [],
   "source": [
    "i_path = \"33.jpg\"\n",
    "img = cv2.imread(i_path)"
   ]
  },
  {
   "cell_type": "markdown",
   "id": "a5c7576a",
   "metadata": {},
   "source": [
    "# Поиск границ с помощью детектора Кэнни и морфологических операций\n"
   ]
  },
  {
   "cell_type": "code",
   "execution_count": 64,
   "id": "70b2a204",
   "metadata": {},
   "outputs": [],
   "source": [
    "gray = cv2.cvtColor(img, cv2.COLOR_BGR2GRAY) \n",
    "g_blur = cv2.GaussianBlur(gray, (3, 3), 0)\n",
    "edge = cv2.Canny(g_blur, 50, 200) \n",
    "kernel = cv2.getStructuringElement(cv2.MORPH_RECT, (7, 7))\n",
    "close = cv2.morphologyEx(edge, cv2.MORPH_CLOSE, kernel)"
   ]
  },
  {
   "cell_type": "markdown",
   "id": "0cd27704",
   "metadata": {},
   "source": [
    "### Отображение промежуточного результата работы"
   ]
  },
  {
   "cell_type": "code",
   "execution_count": 65,
   "id": "ffa1225e",
   "metadata": {},
   "outputs": [
    {
     "data": {
      "image/png": "[encoded data removed]",
      "text/plain": [
       "<Figure size 432x288 with 1 Axes>"
      ]
     },
     "metadata": {
      "needs_background": "light"
     },
     "output_type": "display_data"
    }
   ],
   "source": [
    "plt.imshow(close)\n",
    "plt.show()"
   ]
  },
  {
   "cell_type": "markdown",
   "id": "e78a9f2d",
   "metadata": {},
   "source": [
    "### Поиск контуров на объекте"
   ]
  },
  {
   "cell_type": "code",
   "execution_count": 73,
   "id": "70040fe2",
   "metadata": {},
   "outputs": [],
   "source": [
    "contours, hierarchy = cv2.findContours(close.copy(), cv2.RETR_EXTERNAL, cv2.CHAIN_APPROX_SIMPLE)\n",
    "_, binary_img = cv2.threshold(img, 150, 250, cv2.THRESH_BINARY)\n",
    "gray_binary = cv2.cvtColor(binary_img, cv2.COLOR_BGR2GRAY)\n",
    "for cnt in contours: \n",
    "    approx = cv2.approxPolyDP(cnt, 0.0005 * cv2.arcLength(cnt, True), True) \n",
    "    cv2.drawContours(gray_binary, approx, -1, (0, 0, 0), 5)\n",
    "    cv2.fillPoly(gray_binary, pts=[approx], color=(0, 0, 0))\n"
   ]
  },
  {
   "cell_type": "markdown",
   "id": "7cef3ef7",
   "metadata": {},
   "source": [
    "### Отображение результата"
   ]
  },
  {
   "cell_type": "code",
   "execution_count": 74,
   "id": "d1d780d8",
   "metadata": {},
   "outputs": [
    {
     "data": {
      "text/plain": [
       "<matplotlib.image.AxesImage at 0x1ad06990be0>"
      ]
     },
     "execution_count": 74,
     "metadata": {},
     "output_type": "execute_result"
    },
    {
     "data": {
      "image/png": "[encoded data removed]",
      "text/plain": [
       "<Figure size 432x288 with 1 Axes>"
      ]
     },
     "metadata": {
      "needs_background": "light"
     },
     "output_type": "display_data"
    }
   ],
   "source": [
    "plt.imshow(gray_binary)"
   ]
  },
  {
   "cell_type": "markdown",
   "id": "c49d97fa",
   "metadata": {},
   "source": [
    "### Вычисление площади"
   ]
  },
  {
   "cell_type": "code",
   "execution_count": 77,
   "id": "924faf9f",
   "metadata": {},
   "outputs": [],
   "source": [
    "def FindSquare(contours):\n",
    "    squareoffigure = 0  \n",
    "    objectsummarysquare = 0 \n",
    "    for c in contours:   \n",
    "        if squareoffigure == 0:\n",
    "            squareoffigure = cv2.contourArea(c)\n",
    "        else:\n",
    "            objectsummarysquare = cv2.contourArea(c) \n",
    "    if objectsummarysquare < squareoffigure:\n",
    "        return True\n",
    "    elif objectsummarysquare > squareoffigure:\n",
    "        return False\n",
    "    else:\n",
    "        return False"
   ]
  },
  {
   "cell_type": "markdown",
   "id": "11e53fcf",
   "metadata": {},
   "source": [
    "### Вывод результата"
   ]
  },
  {
   "cell_type": "code",
   "execution_count": 79,
   "id": "2659d519",
   "metadata": {},
   "outputs": [
    {
     "name": "stdout",
     "output_type": "stream",
     "text": [
      "True\n"
     ]
    }
   ],
   "source": [
    "print( FindSquare(contours) )"
   ]
  },
  {
   "cell_type": "code",
   "execution_count": null,
   "id": "ab1140d2",
   "metadata": {},
   "outputs": [],
   "source": []
  }
 ],
 "metadata": {
  "kernelspec": {
   "display_name": "Python 3 (ipykernel)",
   "language": "python",
   "name": "python3"
  },
  "language_info": {
   "codemirror_mode": {
    "name": "ipython",
    "version": 3
   },
   "file_extension": ".py",
   "mimetype": "text/x-python",
   "name": "python",
   "nbconvert_exporter": "python",
   "pygments_lexer": "ipython3",
   "version": "3.9.12"
  }
 },
 "nbformat": 4,
 "nbformat_minor": 5
}
